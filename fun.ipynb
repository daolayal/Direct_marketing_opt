{
 "cells": [
  {
   "cell_type": "code",
   "execution_count": null,
   "metadata": {},
   "outputs": [],
   "source": [
    "import pandas as pd\n",
    "\n",
    "def info_table(df):\n",
    "    tb = pd.DataFrame(df.dtypes)\n",
    "    tb.columns = ['Type']\n",
    "        \n",
    "    num_unique = []\n",
    "    for i in list(tb.index):\n",
    "        num_unique.append(len(df[i].unique()))\n",
    "            \n",
    "    max_value = []\n",
    "    min_value = []\n",
    "    mean_value = []\n",
    "    std_value = []\n",
    "    mode_value = []\n",
    "    for i in list(tb.index):\n",
    "        if tb.loc[i,'Type'] == 'int64':\n",
    "            max_value.append(round(df[i].max(),3))\n",
    "            min_value.append(round(df[i].min(),3))\n",
    "            mean_value.append(round(df[i].mean(),3))\n",
    "            std_value.append(round(df.loc[:,i].std(),3))\n",
    "            mode_value.append(df[i].mode(dropna=True)[0])\n",
    "        elif tb.loc[i,'Type'] == 'float64':\n",
    "            max_value.append(round(df[i].max(),3))\n",
    "            min_value.append(round(df[i].min(),3))\n",
    "            mean_value.append(round(df[i].mean(),3))\n",
    "            std_value.append(round(df.loc[:,i].std(),3))\n",
    "            mode_value.append(df[i].mode(dropna=True)[0])\n",
    "        else:\n",
    "            max_value.append('na')\n",
    "            min_value.append('na')\n",
    "            mean_value.append('na')\n",
    "            std_value.append('na')\n",
    "            mode_value.append(df[i].mode(dropna=True)[0])\n",
    "        \n",
    "    tb['Min'] = min_value\n",
    "    tb['Max'] = max_value\n",
    "    tb['Mean'] = mean_value\n",
    "    tb['STD'] = std_value\n",
    "    tb['Unique'] = num_unique\n",
    "    tb['Zero Values'] = (df == 0.00).astype(int).sum(axis=0)\n",
    "    tb['Missing Values'] = df.isnull().sum()\n",
    "    tb['% Missing Values'] = round(100 * df.isnull().sum() / len(df),3)\n",
    "    tb['mode'] = mode_value\n",
    "    tb = tb.sort_values('Type')        \n",
    "    return tb;"
   ]
  }
 ],
 "metadata": {
  "kernelspec": {
   "display_name": "Python 3",
   "language": "python",
   "name": "python3"
  },
  "language_info": {
   "codemirror_mode": {
    "name": "ipython",
    "version": 3
   },
   "file_extension": ".py",
   "mimetype": "text/x-python",
   "name": "python",
   "nbconvert_exporter": "python",
   "pygments_lexer": "ipython3",
   "version": "3.7.3"
  }
 },
 "nbformat": 4,
 "nbformat_minor": 4
}
